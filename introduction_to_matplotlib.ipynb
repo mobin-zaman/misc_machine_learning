{
  "nbformat": 4,
  "nbformat_minor": 0,
  "metadata": {
    "colab": {
      "name": "introduction_to_matplotlib.ipynb",
      "provenance": [],
      "collapsed_sections": [],
      "authorship_tag": "ABX9TyMGEyMVnBsJTEs0opFpFaVu",
      "include_colab_link": true
    },
    "kernelspec": {
      "name": "python3",
      "display_name": "Python 3"
    }
  },
  "cells": [
    {
      "cell_type": "markdown",
      "metadata": {
        "id": "view-in-github",
        "colab_type": "text"
      },
      "source": [
        "<a href=\"https://colab.research.google.com/github/mobin-zaman/misc_machine_learning/blob/master/introduction_to_matplotlib.ipynb\" target=\"_parent\"><img src=\"https://colab.research.google.com/assets/colab-badge.svg\" alt=\"Open In Colab\"/></a>"
      ]
    },
    {
      "cell_type": "code",
      "metadata": {
        "id": "Mey__3LQl0nx",
        "colab_type": "code",
        "colab": {}
      },
      "source": [
        "\n",
        "import matplotlib.pyplot as plt\n",
        "\n",
        "import pandas as pd\n",
        "\n",
        "import numpy as np\n",
        "\n"
      ],
      "execution_count": 0,
      "outputs": []
    },
    {
      "cell_type": "code",
      "metadata": {
        "id": "WT6hWywdmLRe",
        "colab_type": "code",
        "outputId": "6ffa03dc-fbea-4e1d-92f1-98b3572feeec",
        "colab": {
          "base_uri": "https://localhost:8080/",
          "height": 283
        }
      },
      "source": [
        "plt.plot()"
      ],
      "execution_count": 0,
      "outputs": [
        {
          "output_type": "execute_result",
          "data": {
            "text/plain": [
              "[]"
            ]
          },
          "metadata": {
            "tags": []
          },
          "execution_count": 3
        },
        {
          "output_type": "display_data",
          "data": {
            "image/png": "[encoded data removed]",
            "text/plain": [
              "<Figure size 432x288 with 1 Axes>"
            ]
          },
          "metadata": {
            "tags": [],
            "needs_background": "light"
          }
        }
      ]
    },
    {
      "cell_type": "code",
      "metadata": {
        "id": "3FPPOUd6mNpv",
        "colab_type": "code",
        "colab": {}
      },
      "source": [
        "plt.plot([1,2,3,4])"
      ],
      "execution_count": 0,
      "outputs": []
    },
    {
      "cell_type": "markdown",
      "metadata": {
        "id": "iSquH7W-nSkE",
        "colab_type": "text"
      },
      "source": [
        "Prepare data\n",
        "\n"
      ]
    },
    {
      "cell_type": "code",
      "metadata": {
        "id": "VXYv7vSFnUXG",
        "colab_type": "code",
        "colab": {
          "base_uri": "https://localhost:8080/",
          "height": 639
        },
        "outputId": "90bc46ec-345e-42d4-9fec-d883c982d05e"
      },
      "source": [
        "#prepare data\n",
        "x=[1,2,4,5]\n",
        "y=[11,22,33,44]\n",
        "\n",
        "#setup plot\n",
        "\n",
        "fig, ax = plt.subplots(figsize=(10,10)) #figsize means the dimensions of the data/ width, height\n",
        "#plot data\n",
        "ax.plot(x,y)\n",
        "\n",
        "# customize plot\n",
        "\n",
        "ax.set(title=\"Simple plot\",\n",
        "       xlabel=\"x-axis\",\n",
        "       ylabel=\"y-axis\")"
      ],
      "execution_count": 14,
      "outputs": [
        {
          "output_type": "execute_result",
          "data": {
            "text/plain": [
              "[Text(0, 0.5, 'y-axis'), Text(0.5, 0, 'x-axis'), Text(0.5, 1.0, 'Simple plot')]"
            ]
          },
          "metadata": {
            "tags": []
          },
          "execution_count": 14
        },
        {
          "output_type": "display_data",
          "data": {
            "image/png": "[encoded data removed]",
            "text/plain": [
              "<Figure size 720x720 with 1 Axes>"
            ]
          },
          "metadata": {
            "tags": [],
            "needs_background": "light"
          }
        }
      ]
    },
    {
      "cell_type": "code",
      "metadata": {
        "id": "wsDifEPbpBkW",
        "colab_type": "code",
        "colab": {
          "base_uri": "https://localhost:8080/",
          "height": 380
        },
        "outputId": "335c4e71-df27-4b93-aad0-587f962f154a"
      },
      "source": [
        "\"\"\" Making figures with Numpy arrays \"\"\"\n",
        "\n",
        "x = np.linspace(0, 10, 100)\n",
        "x"
      ],
      "execution_count": 15,
      "outputs": [
        {
          "output_type": "execute_result",
          "data": {
            "text/plain": [
              "array([ 0.        ,  0.1010101 ,  0.2020202 ,  0.3030303 ,  0.4040404 ,\n",
              "        0.50505051,  0.60606061,  0.70707071,  0.80808081,  0.90909091,\n",
              "        1.01010101,  1.11111111,  1.21212121,  1.31313131,  1.41414141,\n",
              "        1.51515152,  1.61616162,  1.71717172,  1.81818182,  1.91919192,\n",
              "        2.02020202,  2.12121212,  2.22222222,  2.32323232,  2.42424242,\n",
              "        2.52525253,  2.62626263,  2.72727273,  2.82828283,  2.92929293,\n",
              "        3.03030303,  3.13131313,  3.23232323,  3.33333333,  3.43434343,\n",
              "        3.53535354,  3.63636364,  3.73737374,  3.83838384,  3.93939394,\n",
              "        4.04040404,  4.14141414,  4.24242424,  4.34343434,  4.44444444,\n",
              "        4.54545455,  4.64646465,  4.74747475,  4.84848485,  4.94949495,\n",
              "        5.05050505,  5.15151515,  5.25252525,  5.35353535,  5.45454545,\n",
              "        5.55555556,  5.65656566,  5.75757576,  5.85858586,  5.95959596,\n",
              "        6.06060606,  6.16161616,  6.26262626,  6.36363636,  6.46464646,\n",
              "        6.56565657,  6.66666667,  6.76767677,  6.86868687,  6.96969697,\n",
              "        7.07070707,  7.17171717,  7.27272727,  7.37373737,  7.47474747,\n",
              "        7.57575758,  7.67676768,  7.77777778,  7.87878788,  7.97979798,\n",
              "        8.08080808,  8.18181818,  8.28282828,  8.38383838,  8.48484848,\n",
              "        8.58585859,  8.68686869,  8.78787879,  8.88888889,  8.98989899,\n",
              "        9.09090909,  9.19191919,  9.29292929,  9.39393939,  9.49494949,\n",
              "        9.5959596 ,  9.6969697 ,  9.7979798 ,  9.8989899 , 10.        ])"
            ]
          },
          "metadata": {
            "tags": []
          },
          "execution_count": 15
        }
      ]
    },
    {
      "cell_type": "code",
      "metadata": {
        "id": "0A7WiJs_pahw",
        "colab_type": "code",
        "colab": {
          "base_uri": "https://localhost:8080/",
          "height": 283
        },
        "outputId": "46595e87-8527-4bbb-c0d1-4eef8be2095c"
      },
      "source": [
        "#plot the data and create a line plot\n",
        "fig , ax = plt.subplots()\n",
        "ax.plot(x, x**2)"
      ],
      "execution_count": 17,
      "outputs": [
        {
          "output_type": "execute_result",
          "data": {
            "text/plain": [
              "[<matplotlib.lines.Line2D at 0x7f64f1e8f320>]"
            ]
          },
          "metadata": {
            "tags": []
          },
          "execution_count": 17
        },
        {
          "output_type": "display_data",
          "data": {
            "image/png": "[encoded data removed]",
            "text/plain": [
              "<Figure size 432x288 with 1 Axes>"
            ]
          },
          "metadata": {
            "tags": [],
            "needs_background": "light"
          }
        }
      ]
    },
    {
      "cell_type": "code",
      "metadata": {
        "id": "834436zvpnCf",
        "colab_type": "code",
        "colab": {
          "base_uri": "https://localhost:8080/",
          "height": 283
        },
        "outputId": "36dee4cc-feb6-4e2d-e1f6-e673a6ccdb31"
      },
      "source": [
        "# using same data a scatter plot\n",
        "\n",
        "fig, ax = plt.subplots()\n",
        "ax.scatter(x, np.exp(x))"
      ],
      "execution_count": 20,
      "outputs": [
        {
          "output_type": "execute_result",
          "data": {
            "text/plain": [
              "<matplotlib.collections.PathCollection at 0x7f64ef458978>"
            ]
          },
          "metadata": {
            "tags": []
          },
          "execution_count": 20
        },
        {
          "output_type": "display_data",
          "data": {
            "image/png": "[encoded data removed]",
            "text/plain": [
              "<Figure size 432x288 with 1 Axes>"
            ]
          },
          "metadata": {
            "tags": [],
            "needs_background": "light"
          }
        }
      ]
    },
    {
      "cell_type": "code",
      "metadata": {
        "id": "aEMN1r-Op-tI",
        "colab_type": "code",
        "colab": {
          "base_uri": "https://localhost:8080/",
          "height": 283
        },
        "outputId": "f9996e71-a596-4131-b049-5efe722b87d8"
      },
      "source": [
        "# another scatterplot\n",
        "\n",
        "fix, ax = plt.subplots()\n",
        "ax.scatter(x, np.sin(x))"
      ],
      "execution_count": 22,
      "outputs": [
        {
          "output_type": "execute_result",
          "data": {
            "text/plain": [
              "<matplotlib.collections.PathCollection at 0x7f64ef3bca90>"
            ]
          },
          "metadata": {
            "tags": []
          },
          "execution_count": 22
        },
        {
          "output_type": "display_data",
          "data": {
            "image/png": "[encoded data removed]",
            "text/plain": [
              "<Figure size 432x288 with 1 Axes>"
            ]
          },
          "metadata": {
            "tags": [],
            "needs_background": "light"
          }
        }
      ]
    },
    {
      "cell_type": "code",
      "metadata": {
        "id": "L6oX_B1TqKmI",
        "colab_type": "code",
        "colab": {
          "base_uri": "https://localhost:8080/",
          "height": 283
        },
        "outputId": "b077cc26-fe11-4b8c-8170-d7720d92da79"
      },
      "source": [
        "# Make a plot from dictionary\n",
        "\n",
        "nut_butter_prices = {\"Almond Butter\":10, \n",
        "                     \"Peanut Butterr\": 8,\n",
        "                     \"Cashew Butter\":12}\n",
        "\n",
        "fig, ax = plt.subplots()\n",
        "\n",
        "ax.bar(nut_butter_prices.keys(), nut_butter_prices.values()) #(x,y)"
      ],
      "execution_count": 25,
      "outputs": [
        {
          "output_type": "execute_result",
          "data": {
            "text/plain": [
              "<BarContainer object of 3 artists>"
            ]
          },
          "metadata": {
            "tags": []
          },
          "execution_count": 25
        },
        {
          "output_type": "display_data",
          "data": {
            "image/png": "[encoded data removed]",
            "text/plain": [
              "<Figure size 432x288 with 1 Axes>"
            ]
          },
          "metadata": {
            "tags": [],
            "needs_background": "light"
          }
        }
      ]
    }
  ]
}